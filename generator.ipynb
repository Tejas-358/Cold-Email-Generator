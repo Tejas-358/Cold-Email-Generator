{
 "cells": [
  {
   "cell_type": "code",
   "execution_count": 1,
   "id": "initial_id",
   "metadata": {
    "collapsed": true,
    "ExecuteTime": {
     "end_time": "2024-10-18T14:33:48.974334500Z",
     "start_time": "2024-10-18T14:33:48.966510300Z"
    }
   },
   "outputs": [],
   "source": [
    "API_KEY = \"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\""
   ]
  },
  {
   "cell_type": "code",
   "execution_count": 2,
   "outputs": [],
   "source": [
    "from langchain_groq import ChatGroq\n",
    "\n",
    "llm = ChatGroq(\n",
    "    model_name = \"llama-3.1-70b-versatile\",\n",
    "    groq_api_key = API_KEY,\n",
    "    temperature = 0\n",
    ")"
   ],
   "metadata": {
    "collapsed": false,
    "ExecuteTime": {
     "end_time": "2024-10-18T14:54:40.542431700Z",
     "start_time": "2024-10-18T14:54:39.039188700Z"
    }
   },
   "id": "1c0625bd0115b841"
  },
  {
   "cell_type": "code",
   "execution_count": 4,
   "outputs": [
    {
     "name": "stdout",
     "output_type": "stream",
     "text": [
      "Artificial Intelligence (AI) refers to the development of computer systems that can perform tasks that typically require human intelligence, such as:\n",
      "\n",
      "1. Learning: AI systems can learn from data and improve their performance over time.\n",
      "2. Problem-solving: AI systems can analyze problems and find solutions.\n",
      "3. Reasoning: AI systems can draw conclusions based on data and rules.\n",
      "4. Perception: AI systems can interpret and understand data from sensors, such as images, speech, and text.\n",
      "5. Language understanding: AI systems can understand and generate human language.\n",
      "\n",
      "AI systems use algorithms and data to make decisions, classify objects, and generate insights. These algorithms can be based on various techniques, including:\n",
      "\n",
      "1. Machine learning: AI systems learn from data and improve their performance over time.\n",
      "2. Deep learning: AI systems use neural networks to analyze data and make decisions.\n",
      "3. Natural language processing: AI systems understand and generate human language.\n",
      "4. Computer vision: AI systems interpret and understand visual data from images and videos.\n",
      "\n",
      "AI has many applications, including:\n",
      "\n",
      "1. Virtual assistants: AI-powered virtual assistants, such as Siri, Alexa, and Google Assistant, can perform tasks and answer questions.\n",
      "2. Image recognition: AI-powered image recognition systems can identify objects, people, and patterns in images.\n",
      "3. Natural language processing: AI-powered chatbots can understand and respond to human language.\n",
      "4. Predictive maintenance: AI-powered systems can predict when equipment is likely to fail and schedule maintenance.\n",
      "5. Healthcare: AI-powered systems can analyze medical data and provide insights for diagnosis and treatment.\n",
      "\n",
      "There are different types of AI, including:\n",
      "\n",
      "1. Narrow or weak AI: AI systems that are designed to perform a specific task, such as facial recognition or language translation.\n",
      "2. General or strong AI: AI systems that can perform any intellectual task that a human can, such as reasoning, problem-solving, and learning.\n",
      "3. Superintelligence: AI systems that are significantly more intelligent than the best human minds.\n",
      "\n",
      "AI has the potential to transform many industries and aspects of our lives, but it also raises concerns about job displacement, bias, and ethics.\n"
     ]
    }
   ],
   "source": [
    "response = llm.invoke(\"What is AI?\")\n",
    "print(response.content)"
   ],
   "metadata": {
    "collapsed": false,
    "ExecuteTime": {
     "end_time": "2024-10-18T14:55:30.063880600Z",
     "start_time": "2024-10-18T14:55:27.739561400Z"
    }
   },
   "id": "d81b535eed230685"
  },
  {
   "cell_type": "code",
   "execution_count": 3,
   "outputs": [],
   "source": [
    "import chromadb\n",
    "\n",
    "client = chromadb.Client()\n",
    "collection = client.create_collection(name=\"my_collection\")"
   ],
   "metadata": {
    "collapsed": false,
    "ExecuteTime": {
     "end_time": "2024-10-18T15:27:56.159102800Z",
     "start_time": "2024-10-18T15:27:54.953982600Z"
    }
   },
   "id": "4e1cea77a5b38c96"
  },
  {
   "cell_type": "code",
   "execution_count": 4,
   "outputs": [
    {
     "data": {
      "text/plain": "Collection(id=c032f945-1813-4794-9d27-e9f92dfdfcd3, name=my_collection)"
     },
     "execution_count": 4,
     "metadata": {},
     "output_type": "execute_result"
    }
   ],
   "source": [
    "collection"
   ],
   "metadata": {
    "collapsed": false,
    "ExecuteTime": {
     "end_time": "2024-10-18T15:28:01.574140900Z",
     "start_time": "2024-10-18T15:28:01.564891100Z"
    }
   },
   "id": "dd2624207dde2047"
  },
  {
   "cell_type": "code",
   "execution_count": null,
   "outputs": [],
   "source": [
    "collection.add(\n",
    "    documents=[\n",
    "        \"Document A\",\n",
    "        \"Document B\"\n",
    "    ],\n",
    "    ids=[\n",
    "        'id1',\n",
    "        \"id2\"\n",
    "    ]\n",
    ")"
   ],
   "metadata": {
    "collapsed": false,
    "is_executing": true,
    "ExecuteTime": {
     "start_time": "2024-10-18T15:28:07.495846800Z"
    }
   },
   "id": "3943c440b59fe5b9"
  },
  {
   "cell_type": "code",
   "execution_count": 1,
   "outputs": [
    {
     "ename": "NameError",
     "evalue": "name 'collection' is not defined",
     "output_type": "error",
     "traceback": [
      "\u001B[1;31m---------------------------------------------------------------------------\u001B[0m",
      "\u001B[1;31mNameError\u001B[0m                                 Traceback (most recent call last)",
      "Cell \u001B[1;32mIn[1], line 1\u001B[0m\n\u001B[1;32m----> 1\u001B[0m all_docs \u001B[38;5;241m=\u001B[39m collection\u001B[38;5;241m.\u001B[39mget()\n\u001B[0;32m      2\u001B[0m all_docs\n",
      "\u001B[1;31mNameError\u001B[0m: name 'collection' is not defined"
     ]
    }
   ],
   "source": [
    "all_docs = collection.get()\n",
    "all_docs"
   ],
   "metadata": {
    "collapsed": false,
    "ExecuteTime": {
     "end_time": "2024-10-18T15:31:08.477136600Z",
     "start_time": "2024-10-18T15:31:07.973996700Z"
    }
   },
   "id": "20782a7bd7a3820e"
  },
  {
   "cell_type": "code",
   "execution_count": null,
   "outputs": [],
   "source": [],
   "metadata": {
    "collapsed": false
   },
   "id": "53d1536b69fa2d2f"
  }
 ],
 "metadata": {
  "kernelspec": {
   "name": "llama",
   "language": "python",
   "display_name": "llama"
  },
  "language_info": {
   "codemirror_mode": {
    "name": "ipython",
    "version": 2
   },
   "file_extension": ".py",
   "mimetype": "text/x-python",
   "name": "python",
   "nbconvert_exporter": "python",
   "pygments_lexer": "ipython2",
   "version": "2.7.6"
  }
 },
 "nbformat": 4,
 "nbformat_minor": 5
}
